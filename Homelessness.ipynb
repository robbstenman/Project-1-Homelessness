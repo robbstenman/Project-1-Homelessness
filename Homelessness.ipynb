{
 "cells": [
  {
   "cell_type": "markdown",
   "metadata": {},
   "source": [
    "# Dependency setup"
   ]
  },
  {
   "cell_type": "markdown",
   "metadata": {},
   "source": [
    "## Google Colab setup"
   ]
  },
  {
   "cell_type": "code",
   "execution_count": 2,
   "metadata": {},
   "outputs": [
    {
     "name": "stdout",
     "output_type": "stream",
     "text": [
      "Libraries successfully installed to colab instance\n"
     ]
    }
   ],
   "source": [
    "# Install the required libraries for running on colab\n",
    "from IPython.display import clear_output\n",
    "try:\n",
    "  !pip install prophet\n",
    "except:\n",
    "  print(\"Error installing libraries to colab instance\")\n",
    "finally:\n",
    "  clear_output()\n",
    "  print(\"Libraries successfully installed to colab instance\")\n"
   ]
  },
  {
   "cell_type": "markdown",
   "metadata": {},
   "source": [
    "## Package setup"
   ]
  },
  {
   "cell_type": "code",
   "execution_count": 7,
   "metadata": {},
   "outputs": [],
   "source": [
    "# Import dependencies and libraries\n",
    "import pandas as pd\n",
    "from census import Census\n",
    "from us import states\n",
    "from dotenv import load_dotenv\n",
    "import requests\n",
    "import sys\n",
    "import csv\n",
    "import os\n",
    "import json\n",
    "\n",
    "# Load environment variables and U.S. Census API key\n",
    "load_dotenv()\n",
    "api_key = os.getenv(\"CENSUS_API_KEY\")\n"
   ]
  },
  {
   "cell_type": "markdown",
   "metadata": {},
   "source": [
    "# Census Code"
   ]
  },
  {
   "cell_type": "code",
   "execution_count": 4,
   "metadata": {},
   "outputs": [
    {
     "data": {
      "text/plain": [
       "census.core.Census"
      ]
     },
     "metadata": {},
     "output_type": "display_data"
    },
    {
     "data": {
      "text/plain": [
       "<census.core.Census at 0x1316b003490>"
      ]
     },
     "metadata": {},
     "output_type": "display_data"
    }
   ],
   "source": [
    "# Create an instance of the Census library\n",
    "c = Census(\n",
    "    api_key\n",
    ")\n",
    "display(type(c))\n",
    "display(c)\n"
   ]
  },
  {
   "cell_type": "markdown",
   "metadata": {},
   "source": [
    "## Census API Aliases"
   ]
  },
  {
   "cell_type": "code",
   "execution_count": 8,
   "metadata": {},
   "outputs": [],
   "source": [
    "# Load census aliases\n",
    "# TODO: Add google colab-specific code to load the census aliases\n",
    "with open('census_aliases.json') as f:\n",
    "    census_aliases = json.load(f)\n",
    "\n",
    "# Display the census aliases\n",
    "# display(census_aliases)\n",
    "\n",
    "def printAliases():\n",
    "  # Show the keys in the census aliases\n",
    "  alias_count = 1\n",
    "  print(\"Census aliases:\")\n",
    "  print(\"-\"*30)\n",
    "  for key, value in census_aliases.items():\n",
    "      description = value[\"description\"]\n",
    "      column_name = value[\"variable\"]\n",
    "      title = value[\"text\"]\n",
    "      unit = value[\"unit\"]\n",
    "      print(f\"{alias_count:03d} | {title.capitalize()}: {description}\")\n",
    "      print(f\"    | Census column name: {column_name}\")\n",
    "      print(f\"    | Unit: {unit}\")\n",
    "      print(\"-\"*30)\n",
    "      alias_count+=1\n",
    "\n",
    "# Saving the reference of the standard output\n",
    "original_stdout = sys.stdout \t\n",
    "\n",
    "# Save the census aliases to a file\n",
    "with open('census_aliases.txt', 'w') as f:\n",
    "    sys.stdout = f\n",
    "    printAliases()\n",
    "    # Reset the standard output\n",
    "    sys.stdout = original_stdout \n"
   ]
  },
  {
   "cell_type": "markdown",
   "metadata": {},
   "source": [
    "## County FIPS Codes"
   ]
  },
  {
   "cell_type": "code",
   "execution_count": null,
   "metadata": {},
   "outputs": [],
   "source": [
    "# Define funtions to get FIPS codes for US counties\n",
    "# https://gist.github.com/cjwinchester/a8ff5dee9c07d161bdf4\n",
    "def getCounties():\n",
    "    \"Function to return a dict of FIPS codes (keys) of U.S. counties (values)\"\n",
    "    d = {}\n",
    "    r = requests.get(\"http://www2.census.gov/geo/docs/reference/codes/files/national_county.txt\")\n",
    "    reader = csv.reader(r.text.splitlines(), delimiter=',')    \n",
    "    for line in reader:\n",
    "        d[line[1] + line[2]] = line[3].replace(\" County\",\"\")    \n",
    "    return d\n",
    "\n",
    "def getCountyAdj():\n",
    "    \"Return a list of dicts where each dict has a county FIPS code (key) and a list of FIPS codes of the adjacent counties, not including that county (value)\"\n",
    "    adj = requests.get(\"http://www2.census.gov/geo/docs/reference/county_adjacency.txt\")\n",
    "    adj_data = adj.text.encode(\"utf-8\")\n",
    "    reader = csv.reader(adj_data.splitlines(), delimiter='\\t')\n",
    "    ls = []\n",
    "    d = {}\n",
    "    countyfips = \"\"\n",
    "    for row in reader:\n",
    "        if row[1] and row[1] != \"\":\n",
    "            if d:\n",
    "                ls.append(d)\n",
    "            d = {}\n",
    "            countyfips = row[1]\n",
    "            d[countyfips] = []\n",
    "            \"Grab the record on the same line\"\n",
    "            try:\n",
    "                st = row[3]\n",
    "                if st != countyfips:\n",
    "                    d[countyfips].append(st)\n",
    "            except:\n",
    "                pass\n",
    "        else:\n",
    "            \"Grab the rest of the records\"\n",
    "            if row[3] and row[3] != \"\":\n",
    "                st = row[3]\n",
    "                if st != countyfips:\n",
    "                    d[countyfips].append(st)\n"
   ]
  },
  {
   "cell_type": "code",
   "execution_count": null,
   "metadata": {},
   "outputs": [],
   "source": [
    "# Get the FIPS codes for Colorado\n",
    "colorado_fips = states.CO.fips\n",
    "print(f\"Colorado FIPS code: {colorado_fips}\")\n"
   ]
  },
  {
   "cell_type": "code",
   "execution_count": null,
   "metadata": {},
   "outputs": [],
   "source": [
    "# Store county FIPS codes in memory\n",
    "county_zips = getCounties()\n",
    "print(\"All County FIPS codes:\")\n",
    "display(county_zips)\n"
   ]
  },
  {
   "cell_type": "code",
   "execution_count": null,
   "metadata": {},
   "outputs": [],
   "source": [
    "# Filter out only Colorado county FIPS codes\n",
    "colorado_county_zips = {key: value for key, value in county_zips.items() if key.startswith(colorado_fips)}\n",
    "print(\"Colorado County ZIP codes:\")\n",
    "display(colorado_county_zips)\n"
   ]
  },
  {
   "cell_type": "code",
   "execution_count": null,
   "metadata": {},
   "outputs": [],
   "source": [
    "# Prompt for county to look up and retrieve fip\n",
    "county_name = input(\"Enter county name to look up the FIPS code: \")\n",
    "county_zip = list(county_zips.keys()) [list(county_zips.values()).index(county_name)]\n",
    "county_fip = county_zip[2:]\n",
    "print(f\"The ZIP code for {county_name} is {county_zip}\")\n",
    "print(f\"The FIPS code for {county_name} is {county_fip}\")\n"
   ]
  },
  {
   "cell_type": "markdown",
   "metadata": {},
   "source": [
    "## Census Data"
   ]
  },
  {
   "cell_type": "code",
   "execution_count": null,
   "metadata": {},
   "outputs": [],
   "source": [
    "# Run Census Search to retrieve data on all zip codes (2013 ACS5 Census)\n",
    "census_data = c.acs5.state_county(\n",
    "  (\n",
    "      \"NAME\",\n",
    "      \"B19013_001E\",\n",
    "      \"B01003_001E\",\n",
    "      \"B01002_001E\",\n",
    "      \"B19301_001E\",\n",
    "      \"B17001_002E\"\n",
    "  ),\n",
    "  colorado_fips,\n",
    "  county_fip,\n",
    "  year=2021\n",
    ")\n",
    "\n",
    "display(census_data)\n",
    "\n",
    "# Convert to DataFrame\n",
    "census_pd = pd.DataFrame(census_data)\n",
    "\n",
    "# Column renaming\n",
    "census_pd = census_pd.rename(\n",
    "  columns = {\n",
    "    \"B01003_001E\": \"Population\",\n",
    "    \"B01002_001E\": \"Median Age\",\n",
    "    \"B19013_001E\": \"Household Income\",\n",
    "    \"B19301_001E\": \"Per Capita Income\",\n",
    "    \"B17001_002E\": \"Poverty Count\",\n",
    "    \"NAME\": \"Name\",\n",
    "  }\n",
    ")\n",
    "\n",
    "# Add a Poverty Rate column (Poverty Count / Population)\n",
    "census_pd[\"Poverty Rate\"] = 100 * census_pd[\"Poverty Count\"].astype(int) / census_pd[\"Population\"].astype(int)\n",
    "\n",
    "# Configure the final DataFrame\n",
    "census_pd = census_pd[\n",
    "  [\n",
    "    \"Name\",\n",
    "    \"Population\",\n",
    "    \"Median Age\",\n",
    "    \"Household Income\",\n",
    "    \"Per Capita Income\",\n",
    "    \"Poverty Count\",\n",
    "    \"Poverty Rate\"\n",
    "  ]\n",
    "]\n",
    "\n",
    "# Display DataFrame length and sample data\n",
    "print(f\"Number of rows in the DataFrame: {len(census_pd)}\")\n",
    "census_pd.head()\n"
   ]
  }
 ],
 "metadata": {
  "kernelspec": {
   "display_name": "bootcamp",
   "language": "python",
   "name": "python3"
  },
  "language_info": {
   "codemirror_mode": {
    "name": "ipython",
    "version": 3
   },
   "file_extension": ".py",
   "mimetype": "text/x-python",
   "name": "python",
   "nbconvert_exporter": "python",
   "pygments_lexer": "ipython3",
   "version": "3.10.14"
  }
 },
 "nbformat": 4,
 "nbformat_minor": 2
}
