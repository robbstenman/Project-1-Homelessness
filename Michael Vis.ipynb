{
 "cells": [
  {
   "cell_type": "markdown",
   "metadata": {},
   "source": [
    "# Load dependencies and libraries"
   ]
  },
  {
   "cell_type": "code",
   "execution_count": null,
   "metadata": {},
   "outputs": [],
   "source": [
    "# Import dependencies and libraries\n",
    "from IPython.display import clear_output\n",
    "import pandas as pd\n",
    "from census import Census\n",
    "from us import states\n",
    "from dotenv import load_dotenv\n",
    "import matplotlib.pyplot as plt\n",
    "# from prophet import Prophet # Uncomment this line if you want to use Facebook Prophet for time series forecasting\n",
    "import requests\n",
    "import sys\n",
    "import csv\n",
    "import os\n",
    "import json\n",
    "import time\n",
    "\n",
    "# Load development mode\n",
    "try:\n",
    "  dev = os.getenv(\"DEV_MODE\")\n",
    "  if dev: print(\"Development mode loaded successfully!\")\n",
    "except:\n",
    "  print(\"Error loading development mode\")\n",
    "  print(\"Defaulting to production mode\")\n",
    "  dev = False\n",
    "\n",
    "# Load environment variables and U.S. Census API key\n",
    "if dev: print(\"Loading environment variables...\")\n",
    "load_dotenv()\n",
    "if dev: print(\"Environment variables loaded successfully!\")\n",
    "try:\n",
    "  if dev: print(\"Loading U.S. Census API key...\")\n",
    "  api_key = os.getenv(\"CENSUS_API_KEY\")\n",
    "  if dev: print(\"API key loaded successfully!\")\n",
    "except:\n",
    "  print(\"Error loading U.S. Census API key\")\n",
    "  print(\"Please check your environment variables\")\n",
    "  "
   ]
  },
  {
   "cell_type": "markdown",
   "metadata": {},
   "source": [
    "# Data Gathering"
   ]
  },
  {
   "cell_type": "markdown",
   "metadata": {},
   "source": [
    "## Census Data"
   ]
  },
  {
   "cell_type": "markdown",
   "metadata": {},
   "source": [
    "### Loading Census data"
   ]
  },
  {
   "cell_type": "code",
   "execution_count": null,
   "metadata": {},
   "outputs": [],
   "source": [
    "# Load the final census data from the CSV file\n",
    "try:\n",
    "  if dev: print(\"Loading final census data from the CSV file...\")\n",
    "  census_df = pd.read_csv(\"data/census/clean_census_data.csv\")\n",
    "  if dev: display(census_df.head())\n",
    "  print(\"Final census data loaded from file successfully!\")\n",
    "except:\n",
    "  print(\"Error loading final census data from file, please make sure the file exists.\")\n"
   ]
  },
  {
   "cell_type": "markdown",
   "metadata": {},
   "source": [
    "### Cleaning Census data"
   ]
  },
  {
   "cell_type": "code",
   "execution_count": null,
   "metadata": {},
   "outputs": [],
   "source": [
    "urban_county_names = [\"Denver County, Colorado\", \"Jefferson County, Colorado\", \"El Paso County, Colorado\", \"Adams County, Colorado\", \"Arapahoe County, Colorado\"]\n",
    "rural_county_names = [\"Hinsdale County, Colorado\", \"San Juan County, Colorado\", \"Mineral County, Colorado\", \"Jackson County, Colorado\", \"Kiowa County, Colorado\"]\n"
   ]
  },
  {
   "cell_type": "markdown",
   "metadata": {},
   "source": [
    "#### Cleaning Rural County data"
   ]
  },
  {
   "cell_type": "code",
   "execution_count": null,
   "metadata": {},
   "outputs": [],
   "source": [
    "# filter the data to include data from a list of counties\n",
    "rural_employment_poverty_df = census_df[census_df[\"County\"].isin(rural_county_names)]\n",
    "rural_employment_poverty_df = rural_employment_poverty_df[[\"Year\", \"Poverty Count\", \"Number of Employed (16+)\", \"Number of Unemployed (16+)\"]]\n",
    "rural_employment_poverty_df = rural_employment_poverty_df.groupby(\"Year\").mean()\n",
    "display(rural_employment_poverty_df.head())\n"
   ]
  },
  {
   "cell_type": "markdown",
   "metadata": {},
   "source": [
    "#### Cleaning Urban County data"
   ]
  },
  {
   "cell_type": "code",
   "execution_count": null,
   "metadata": {},
   "outputs": [],
   "source": [
    "# filter the data to include data from a list of counties\n",
    "urban_employment_poverty_df = census_df[census_df[\"County\"].isin(urban_county_names)]\n",
    "urban_employment_poverty_df = urban_employment_poverty_df[[\"Year\", \"Poverty Count\", \"Number of Employed (16+)\", \"Number of Unemployed (16+)\"]]\n",
    "urban_employment_poverty_df = urban_employment_poverty_df.groupby(\"Year\").mean()\n",
    "display(urban_employment_poverty_df.head())\n"
   ]
  },
  {
   "cell_type": "markdown",
   "metadata": {},
   "source": [
    "#### Cleaning Overall Census data"
   ]
  },
  {
   "cell_type": "code",
   "execution_count": null,
   "metadata": {},
   "outputs": [],
   "source": [
    "# Filter out unused data\n",
    "employment_poverty_df = census_df[[\"Poverty Count\", \"Number of Employed (16+)\", \"Number of Unemployed (16+)\"]].groupby(census_df[\"Year\"]).mean()\n",
    "employment_poverty_df\n"
   ]
  },
  {
   "cell_type": "code",
   "execution_count": null,
   "metadata": {},
   "outputs": [],
   "source": [
    "# See the distribution of the data\n",
    "census_df[[\"Poverty Count\", \"Number of Employed (16+)\", \"Number of Unemployed (16+)\"]].groupby(census_df[\"Year\"]).describe()\n"
   ]
  },
  {
   "cell_type": "markdown",
   "metadata": {},
   "source": [
    "## PIT Data"
   ]
  },
  {
   "cell_type": "markdown",
   "metadata": {},
   "source": [
    "### Import PIT data"
   ]
  },
  {
   "cell_type": "code",
   "execution_count": null,
   "metadata": {},
   "outputs": [],
   "source": [
    "# Import PIT data into a DataFrame\n",
    "try:\n",
    "  if dev: print(\"Loading PIT data...\")\n",
    "  raw_pit_data_df = pd.read_excel(\"data/pit/PIT_CO_2007-2023.xlsx\")\n",
    "  if dev: display(raw_pit_data_df.head())\n",
    "  print(\"PIT data loaded successfully!\")\n",
    "\n",
    "except:\n",
    "  print(\"Error loading PIT data from file, please make sure the file exists.\")\n"
   ]
  },
  {
   "cell_type": "markdown",
   "metadata": {},
   "source": [
    "### Cleaning PIT data"
   ]
  },
  {
   "cell_type": "code",
   "execution_count": null,
   "metadata": {},
   "outputs": [],
   "source": [
    "# Copy PIT data to a new DataFrame\n",
    "if dev: print(\"Copying PIT data to a new DataFrame...\")\n",
    "co_pit_data_df = raw_pit_data_df.copy()\n",
    "# Select columns we want the data for\n",
    "if dev: print(\"Filtering DataFrame columns...\")\n",
    "co_pit_data_df = co_pit_data_df[['Year', 'Overall Homeless',]]\n",
    "# Filter to the years we are interested in\n",
    "if dev: print(\"Filtering DataFrame years...\")\n",
    "co_pit_data_df = co_pit_data_df.iloc[4:15]\n",
    "# Reset the index\n",
    "if dev: print(\"Resetting index...\")\n",
    "co_pit_data_df.reset_index(drop=True, inplace=True)\n",
    "display(co_pit_data_df)\n"
   ]
  },
  {
   "cell_type": "markdown",
   "metadata": {},
   "source": [
    "## Homeless Students Data"
   ]
  },
  {
   "cell_type": "markdown",
   "metadata": {},
   "source": [
    "### Load Homeless Students data"
   ]
  },
  {
   "cell_type": "code",
   "execution_count": null,
   "metadata": {},
   "outputs": [],
   "source": [
    "# Import School data into a DataFrame\n",
    "try:\n",
    "  if dev: print(\"Loading school data from the CSV file...\")\n",
    "  raw_school_data_df = pd.read_excel(\"data/schools/combined_2011-2021.xlsx\")\n",
    "\n",
    "  if dev: display(raw_school_data_df.head())\n",
    "  print(\"School data loaded from file successfully!\")\n",
    "except:\n",
    "  print(\"Error loading school data from file, please make sure the file exists.\")\n"
   ]
  },
  {
   "cell_type": "markdown",
   "metadata": {},
   "source": [
    "### Cleaning Homeless Students data"
   ]
  },
  {
   "cell_type": "code",
   "execution_count": null,
   "metadata": {},
   "outputs": [],
   "source": [
    "# Copy the School data to a new DataFrame\n",
    "if dev: print(\"Copying the School data to a new DataFrame...\")\n",
    "school_data_df = raw_school_data_df.copy()\n",
    "# Sort the DataFrame by Name and Year\n",
    "if dev: print(\"Sorting the DataFrame by County and Year...\")\n",
    "school_data_df.sort_values(by=[\"County\", \"Year\"], inplace=True)\n",
    "# Reset the index of the DataFrame\n",
    "school_data_df.reset_index(inplace=True, drop=True)\n",
    "# Display the DataFrame\n",
    "if dev: print(\"New DataFrame:\")\n",
    "display(school_data_df.head())\n"
   ]
  },
  {
   "cell_type": "code",
   "execution_count": null,
   "metadata": {},
   "outputs": [],
   "source": [
    "urban_county_names = [\"DENVER\", \"JEFFERSON\", \"EL PASO\", \"ADAMS\", \"ARAPAHOE\"]\n",
    "rural_county_names = [\"HINSDALE\", \"SAN JUAN\", \"MINERAL\", \"JACKSON\", \"KIOWA\"]\n"
   ]
  },
  {
   "cell_type": "markdown",
   "metadata": {},
   "source": [
    "#### Colorado Overall"
   ]
  },
  {
   "cell_type": "code",
   "execution_count": null,
   "metadata": {},
   "outputs": [],
   "source": [
    "# Create another dataframe containing the average number of students per year\n",
    "if dev: print(\"Creating a new DataFrame containing the average number of students per year...\")\n",
    "co_school_avg_df = school_data_df[[\"Year\", \"TOTAL\"]].groupby(school_data_df[\"Year\"]).mean()\n",
    "# Convert the Year and TOTAL columns to integer and float, respectively\n",
    "if dev: print(\"Converting columns...\")\n",
    "co_school_avg_df[['Year']] = co_school_avg_df[['Year']].astype(int)\n",
    "co_school_avg_df[['TOTAL']] = co_school_avg_df[['TOTAL']].round(2)\n",
    "# Rename the columns\n",
    "if dev: print(\"Renaming columns...\")\n",
    "co_school_avg_df.rename(columns={\"TOTAL\": \"Average Homeless Students\"}, inplace=True)\n",
    "# Reset the index of the DataFrame\n",
    "if dev: print(\"Resetting the index...\")\n",
    "co_school_avg_df.reset_index(inplace=True, drop=True)\n",
    "display(co_school_avg_df)\n"
   ]
  },
  {
   "cell_type": "markdown",
   "metadata": {},
   "source": [
    "#### Rural Counties"
   ]
  },
  {
   "cell_type": "code",
   "execution_count": null,
   "metadata": {},
   "outputs": [],
   "source": [
    "# Filter the data to include data from a list of counties\n",
    "if dev: print(\"Filtering rural counties...\")\n",
    "rural_homeless_students_df = school_data_df[school_data_df[\"County\"].isin(rural_county_names)]\n",
    "# Filter columns\n",
    "if dev: print(\"Filtering columns...\")\n",
    "rural_homeless_students_df = rural_homeless_students_df[[\"Year\", \"TOTAL\"]]\n",
    "# Convert the Year and TOTAL columns to integer and float, respectively\n",
    "if dev: print(\"Converting columns...\")\n",
    "rural_homeless_students_df[['Year']] = rural_homeless_students_df[['Year']].astype(int)\n",
    "rural_homeless_students_df[['TOTAL']] = rural_homeless_students_df[['TOTAL']].round(2)\n",
    "# Rename the columns\n",
    "if dev: print(\"Renaming columns...\")\n",
    "rural_homeless_students_df.rename(columns={\"TOTAL\": \"Average Homeless Students\"}, inplace=True)\n",
    "# Get the average number of homeless students per year\n",
    "rural_homeless_students_df = rural_homeless_students_df.groupby(\"Year\").mean()\n",
    "display(rural_homeless_students_df)\n"
   ]
  },
  {
   "cell_type": "markdown",
   "metadata": {},
   "source": [
    "#### Urban Counties"
   ]
  },
  {
   "cell_type": "code",
   "execution_count": null,
   "metadata": {},
   "outputs": [],
   "source": [
    "# Filter the data to include data from a list of counties\n",
    "if dev: print(\"Filtering urban counties...\")\n",
    "urban_homeless_students_df = school_data_df[school_data_df[\"County\"].isin(urban_county_names)]\n",
    "# Filter columns\n",
    "if dev: print(\"Filtering columns...\")\n",
    "urban_homeless_students_df = urban_homeless_students_df[[\"Year\", \"TOTAL\"]]\n",
    "# Convert the Year and TOTAL columns to integer and float, respectively\n",
    "if dev: print(\"Converting columns...\")\n",
    "urban_homeless_students_df[['Year']] = urban_homeless_students_df[['Year']].astype(int)\n",
    "urban_homeless_students_df[['TOTAL']] = urban_homeless_students_df[['TOTAL']].round(2)\n",
    "# Rename the columns\n",
    "if dev: print(\"Renaming columns...\")\n",
    "urban_homeless_students_df.rename(columns={\"TOTAL\": \"Average Homeless Students\"}, inplace=True)\n",
    "# Get the average number of homeless students per year\n",
    "urban_homeless_students_df = urban_homeless_students_df.groupby(\"Year\").mean()\n",
    "display(urban_homeless_students_df)\n"
   ]
  },
  {
   "cell_type": "markdown",
   "metadata": {},
   "source": [
    "## Combining PIT & Homeless Students Data"
   ]
  },
  {
   "cell_type": "markdown",
   "metadata": {},
   "source": [
    "### Colorado Overall"
   ]
  },
  {
   "cell_type": "code",
   "execution_count": null,
   "metadata": {},
   "outputs": [],
   "source": [
    "# Merge the PIT data with the School data\n",
    "if dev: print(\"Merging the PIT data with the School data...\")\n",
    "co_homeless_df = pd.merge(co_pit_data_df, co_school_avg_df, on=\"Year\")\n",
    "# Set the Year column as the index\n",
    "if dev: print(\"Setting the Year column as the index...\")\n",
    "co_homeless_df.set_index(\"Year\", inplace=True)\n",
    "display(co_homeless_df)\n"
   ]
  },
  {
   "cell_type": "markdown",
   "metadata": {},
   "source": [
    "### Rural Counties"
   ]
  },
  {
   "cell_type": "code",
   "execution_count": null,
   "metadata": {},
   "outputs": [],
   "source": [
    "# Merge the PIT data with the School data\n",
    "if dev: print(\"Merging the PIT data with the School data...\")\n",
    "rural_homeless_df = pd.merge(co_pit_data_df, rural_homeless_students_df, on=\"Year\")\n",
    "# Set the Year column as the index\n",
    "if dev: print(\"Setting the Year column as the index...\")\n",
    "rural_homeless_df.set_index(\"Year\", inplace=True)\n",
    "display(rural_homeless_df)\n"
   ]
  },
  {
   "cell_type": "markdown",
   "metadata": {},
   "source": [
    "### Urban Counties"
   ]
  },
  {
   "cell_type": "code",
   "execution_count": null,
   "metadata": {},
   "outputs": [],
   "source": [
    "# Merge the PIT data with the School data\n",
    "if dev: print(\"Merging the PIT data with the School data...\")\n",
    "urban_homeless_df = pd.merge(co_pit_data_df, urban_homeless_students_df, on=\"Year\")\n",
    "# Set the Year column as the index\n",
    "if dev: print(\"Setting the Year column as the index...\")\n",
    "urban_homeless_df.set_index(\"Year\", inplace=True)\n",
    "display(urban_homeless_df)\n"
   ]
  },
  {
   "cell_type": "markdown",
   "metadata": {},
   "source": [
    "# Graphs"
   ]
  },
  {
   "cell_type": "markdown",
   "metadata": {},
   "source": [
    "## Colorado PIT"
   ]
  },
  {
   "cell_type": "markdown",
   "metadata": {},
   "source": [
    "### Colorado Overall"
   ]
  },
  {
   "cell_type": "code",
   "execution_count": null,
   "metadata": {},
   "outputs": [],
   "source": [
    "# Display the plot\n",
    "co_homeless_df.plot(y='Overall Homeless', kind='line', title='Overall Homeless in Colorado (2011-2021)')\n",
    "# Save the plot to a file\n",
    "plt.savefig(\"images/michael/co_homeless_line.png\")\n"
   ]
  },
  {
   "cell_type": "code",
   "execution_count": null,
   "metadata": {},
   "outputs": [],
   "source": [
    "# Display the plot\n",
    "co_homeless_df.plot(y='Overall Homeless', kind='bar', title='Overall Homeless in Colorado (2011-2021)')\n",
    "# Save the plot to a file\n",
    "plt.savefig(\"images/michael/co_homeless_bar.png\")\n"
   ]
  },
  {
   "cell_type": "markdown",
   "metadata": {},
   "source": [
    "## Homeless Students"
   ]
  },
  {
   "cell_type": "markdown",
   "metadata": {},
   "source": [
    "### Colorado Overall"
   ]
  },
  {
   "cell_type": "code",
   "execution_count": null,
   "metadata": {},
   "outputs": [],
   "source": [
    "# Display the plot\n",
    "co_homeless_df.plot(y='Average Homeless Students', kind='line', title='Avg Homeless Students in Colorado (2011-2021)')\n",
    "# Save the plot to a file\n",
    "plt.savefig(\"images/michael/avg_homeless_students_line.png\")\n"
   ]
  },
  {
   "cell_type": "code",
   "execution_count": null,
   "metadata": {},
   "outputs": [],
   "source": [
    "# Display the plot\n",
    "co_homeless_df.plot(y='Average Homeless Students', kind='bar', title='Avg Homeless Students in Colorado (2011-2021)')\n",
    "# Save the plot to a file\n",
    "plt.savefig(\"images/michael/avg_homeless_students_bar.png\")\n"
   ]
  },
  {
   "cell_type": "markdown",
   "metadata": {},
   "source": [
    "### Rural Counties"
   ]
  },
  {
   "cell_type": "code",
   "execution_count": null,
   "metadata": {},
   "outputs": [],
   "source": [
    "# Display the plot\n",
    "rural_homeless_df.plot(y='Average Homeless Students', kind='line', title='Avg Homeless Students in Rural Counties (2011-2021)')\n",
    "# Save the plot to a file\n",
    "plt.savefig(\"images/michael/rural_avg_homeless_students_line.png\")\n"
   ]
  },
  {
   "cell_type": "code",
   "execution_count": null,
   "metadata": {},
   "outputs": [],
   "source": [
    "# Display the plot\n",
    "rural_homeless_df.plot(y='Average Homeless Students', kind='bar', title='Avg Homeless Students in Rural Counties (2011-2021)')\n",
    "# Save the plot to a file\n",
    "plt.savefig(\"images/michael/rural_avg_homeless_students_bar.png\")\n"
   ]
  },
  {
   "cell_type": "markdown",
   "metadata": {},
   "source": [
    "### Urban Counties"
   ]
  },
  {
   "cell_type": "code",
   "execution_count": null,
   "metadata": {},
   "outputs": [],
   "source": [
    "# Display the plot\n",
    "urban_homeless_df.plot(y='Average Homeless Students', kind='line', title='Avg Homeless Students in Urban Counties (2011-2021)')\n",
    "# Save the plot to a file\n",
    "plt.savefig(\"images/michael/urban_avg_homeless_students_line.png\")\n"
   ]
  },
  {
   "cell_type": "code",
   "execution_count": null,
   "metadata": {},
   "outputs": [],
   "source": [
    "# Display the plot\n",
    "urban_homeless_df.plot(y='Average Homeless Students', kind='bar', title='Avg Homeless Students in Urban Counties (2011-2021)')\n",
    "# Save the plot to a file\n",
    "plt.savefig(\"images/michael/urban_avg_homeless_students_bar.png\")\n"
   ]
  },
  {
   "cell_type": "markdown",
   "metadata": {},
   "source": [
    "## Colorado PIT vs Homeless Students"
   ]
  },
  {
   "cell_type": "markdown",
   "metadata": {},
   "source": [
    "### Colorado Overall"
   ]
  },
  {
   "cell_type": "code",
   "execution_count": null,
   "metadata": {},
   "outputs": [],
   "source": [
    "# Display the plot\n",
    "co_homeless_df.plot(y=['Overall Homeless', 'Average Homeless Students'], kind='line', title='Overall Homeless vs. Avg Homeless Students in Colorado (2011-2021)')\n",
    "# Save the plot to a file\n",
    "plt.savefig(\"images/michael/co_homeless_vs_avg_homeless_students_line.png\")\n"
   ]
  },
  {
   "cell_type": "code",
   "execution_count": null,
   "metadata": {},
   "outputs": [],
   "source": [
    "# Display the plot\n",
    "co_homeless_df.plot(y=['Overall Homeless', 'Average Homeless Students'], kind='bar', title='Overall Homeless vs. Avg Homeless Students in Colorado (2011-2021)')\n",
    "# Save the plot to a file\n",
    "plt.savefig(\"images/michael/co_homeless_vs_avg_homeless_students_bar.png\")\n"
   ]
  },
  {
   "cell_type": "markdown",
   "metadata": {},
   "source": [
    "### Rural Counties"
   ]
  },
  {
   "cell_type": "code",
   "execution_count": null,
   "metadata": {},
   "outputs": [],
   "source": [
    "# Display the plot\n",
    "rural_homeless_df.plot(y=['Overall Homeless', 'Average Homeless Students'], kind='line', title='Overall Homeless vs. Avg Homeless Students in Rural Counties (2011-2021)')\n",
    "# Save the plot to a file\n",
    "plt.savefig(\"images/michael/rural_homeless_vs_avg_homeless_students_line.png\")\n"
   ]
  },
  {
   "cell_type": "code",
   "execution_count": null,
   "metadata": {},
   "outputs": [],
   "source": [
    "# Display the plot\n",
    "rural_homeless_df.plot(y=['Overall Homeless', 'Average Homeless Students'], kind='bar', title='Overall Homeless vs. Avg Homeless Students in Rural Counties (2011-2021)')\n",
    "# Save the plot to a file\n",
    "plt.savefig(\"images/michael/rural_homeless_vs_avg_homeless_students_bar.png\")\n"
   ]
  },
  {
   "cell_type": "markdown",
   "metadata": {},
   "source": [
    "### Urban Counties"
   ]
  },
  {
   "cell_type": "code",
   "execution_count": null,
   "metadata": {},
   "outputs": [],
   "source": [
    "# Display the plot\n",
    "urban_homeless_df.plot(y=['Overall Homeless', 'Average Homeless Students'], kind='line', title='Overall Homeless vs. Avg Homeless Students in Urban Counties (2011-2021)')\n",
    "# Save the plot to a file\n",
    "plt.savefig(\"images/michael/urban_homeless_vs_avg_homeless_students_line.png\")\n"
   ]
  },
  {
   "cell_type": "code",
   "execution_count": null,
   "metadata": {},
   "outputs": [],
   "source": [
    "# Display the plot\n",
    "urban_homeless_df.plot(y=['Overall Homeless', 'Average Homeless Students'], kind='bar', title='Overall Homeless vs. Avg Homeless Students in Urban Counties (2011-2021)')\n",
    "# Save the plot to a file\n",
    "plt.savefig(\"images/michael/urban_homeless_vs_avg_homeless_students_bar.png\")\n"
   ]
  },
  {
   "cell_type": "markdown",
   "metadata": {},
   "source": [
    "## Employment"
   ]
  },
  {
   "cell_type": "markdown",
   "metadata": {},
   "source": [
    "### Colorado Overall"
   ]
  },
  {
   "cell_type": "code",
   "execution_count": null,
   "metadata": {},
   "outputs": [],
   "source": [
    "# Display the plot\n",
    "employment_poverty_df.plot(y=[\"Number of Employed (16+)\", \"Number of Unemployed (16+)\"], kind=\"line\", title=\"Employment (16+) in Colorado (2011-2021)\")\n",
    "# Save the plot to a file\n",
    "plt.savefig(\"images/michael/employment_line.png\")\n"
   ]
  },
  {
   "cell_type": "code",
   "execution_count": null,
   "metadata": {},
   "outputs": [],
   "source": [
    "# Display the plot\n",
    "employment_poverty_df.plot(y=[\"Number of Employed (16+)\", \"Number of Unemployed (16+)\"], kind=\"bar\", title=\"Employment (16+) in Colorado (2011-2021)\")\n",
    "# Save the plot to a file\n",
    "plt.savefig(\"images/michael/employment_bar.png\")\n"
   ]
  },
  {
   "cell_type": "markdown",
   "metadata": {},
   "source": [
    "### Rural Counties"
   ]
  },
  {
   "cell_type": "code",
   "execution_count": null,
   "metadata": {},
   "outputs": [],
   "source": [
    "# Display the plot\n",
    "rural_employment_poverty_df.plot(y=[\"Number of Employed (16+)\", \"Number of Unemployed (16+)\"], kind=\"line\", title=\"Employment (16+) in Rural Counties (2011-2021)\")\n",
    "# Save the plot to a file\n",
    "plt.savefig(\"images/michael/rural_employment_line.png\")\n"
   ]
  },
  {
   "cell_type": "code",
   "execution_count": null,
   "metadata": {},
   "outputs": [],
   "source": [
    "# Display the plot\n",
    "rural_employment_poverty_df.plot(y=[\"Number of Employed (16+)\", \"Number of Unemployed (16+)\"], kind=\"bar\", title=\"Employment (16+) in Rural Counties (2011-2021)\")\n",
    "# Save the plot to a file\n",
    "plt.savefig(\"images/michael/rural_employment_bar.png\")\n"
   ]
  },
  {
   "cell_type": "markdown",
   "metadata": {},
   "source": [
    "### Urban Counties"
   ]
  },
  {
   "cell_type": "code",
   "execution_count": null,
   "metadata": {},
   "outputs": [],
   "source": [
    "# Display the plot\n",
    "urban_employment_poverty_df.plot(y=[\"Number of Employed (16+)\", \"Number of Unemployed (16+)\"], kind=\"line\", title=\"Employment (16+) in Urban Counties (2011-2021)\")\n",
    "# Save the plot to a file\n",
    "plt.savefig(\"images/michael/urban_employment_line.png\")\n"
   ]
  },
  {
   "cell_type": "code",
   "execution_count": null,
   "metadata": {},
   "outputs": [],
   "source": [
    "# Display the plot\n",
    "urban_employment_poverty_df.plot(y=[\"Number of Employed (16+)\", \"Number of Unemployed (16+)\"], kind=\"bar\", title=\"Employment (16+) in Urban Counties (2011-2021)\")\n",
    "# Save the plot to a file\n",
    "plt.savefig(\"images/michael/urban_employment_bar.png\")\n"
   ]
  },
  {
   "cell_type": "markdown",
   "metadata": {},
   "source": [
    "## Poverty"
   ]
  },
  {
   "cell_type": "markdown",
   "metadata": {},
   "source": [
    "### Colorado Overall"
   ]
  },
  {
   "cell_type": "code",
   "execution_count": null,
   "metadata": {},
   "outputs": [],
   "source": [
    "# Display the plot\n",
    "employment_poverty_df.plot(y=\"Poverty Count\", kind=\"line\", title=\"Poverty Count in Colorado (2011-2021)\")\n",
    "# Save the plot to a file\n",
    "plt.savefig(\"images/michael/poverty_count_line.png\")\n"
   ]
  },
  {
   "cell_type": "code",
   "execution_count": null,
   "metadata": {},
   "outputs": [],
   "source": [
    "# Display the plot\n",
    "employment_poverty_df.plot(y=\"Poverty Count\", kind=\"bar\", title=\"Poverty Count in Colorado (2011-2021)\")\n",
    "# Save the plot to a file\n",
    "plt.savefig(\"images/michael/poverty_count_bar.png\")\n"
   ]
  },
  {
   "cell_type": "markdown",
   "metadata": {},
   "source": [
    "### Rural Counties"
   ]
  },
  {
   "cell_type": "code",
   "execution_count": null,
   "metadata": {},
   "outputs": [],
   "source": [
    "# Display the plot\n",
    "rural_employment_poverty_df.plot(y=\"Poverty Count\", kind=\"line\", title=\"Poverty Count in Rural Counties (2011-2021)\")\n",
    "# Save the plot to a file\n",
    "plt.savefig(\"images/michael/rural_poverty_count_line.png\")\n"
   ]
  },
  {
   "cell_type": "code",
   "execution_count": null,
   "metadata": {},
   "outputs": [],
   "source": [
    "# Display the plot\n",
    "rural_employment_poverty_df.plot(y=\"Poverty Count\", kind=\"bar\", title=\"Poverty Count in Rural Counties (2011-2021)\")\n",
    "# Save the plot to a file\n",
    "plt.savefig(\"images/michael/rural_poverty_count_bar.png\")\n"
   ]
  },
  {
   "cell_type": "markdown",
   "metadata": {},
   "source": [
    "### Urban Counties"
   ]
  },
  {
   "cell_type": "code",
   "execution_count": null,
   "metadata": {},
   "outputs": [],
   "source": [
    "# Display the plot\n",
    "urban_employment_poverty_df.plot(y=\"Poverty Count\", kind=\"line\", title=\"Poverty Count in Urban Counties (2011-2021)\")\n",
    "# Save the plot to a file\n",
    "plt.savefig(\"images/michael/urban_poverty_count_line.png\")\n"
   ]
  },
  {
   "cell_type": "code",
   "execution_count": null,
   "metadata": {},
   "outputs": [],
   "source": [
    "# Display the plot\n",
    "urban_employment_poverty_df.plot(y=\"Poverty Count\", kind=\"bar\", title=\"Poverty Count in Urban Counties (2011-2021)\")\n",
    "# Save the plot to a file\n",
    "plt.savefig(\"images/michael/urban_poverty_count_bar.png\")\n"
   ]
  },
  {
   "cell_type": "markdown",
   "metadata": {},
   "source": [
    "## Employment vs Poverty"
   ]
  },
  {
   "cell_type": "markdown",
   "metadata": {},
   "source": [
    "### Colorado Overall"
   ]
  },
  {
   "cell_type": "code",
   "execution_count": null,
   "metadata": {},
   "outputs": [],
   "source": [
    "# Display the plot\n",
    "employment_poverty_df.plot(y=[\"Poverty Count\", \"Number of Employed (16+)\", \"Number of Unemployed (16+)\"], kind=\"line\", title=\"Poverty Count vs. Employment (16+) in Colorado (2011-2021)\")\n",
    "# Save the plot to a file\n",
    "plt.savefig(\"images/michael/poverty_count_vs_employment_line.png\")\n"
   ]
  },
  {
   "cell_type": "code",
   "execution_count": null,
   "metadata": {},
   "outputs": [],
   "source": [
    "# Display the plot\n",
    "employment_poverty_df.plot(y=[\"Poverty Count\", \"Number of Employed (16+)\", \"Number of Unemployed (16+)\"], kind=\"bar\", title=\"Poverty Count vs. Employment (16+) in Colorado (2011-2021)\")\n",
    "# Save the plot to a file\n",
    "plt.savefig(\"images/michael/poverty_count_vs_employment_bar.png\")\n"
   ]
  },
  {
   "cell_type": "markdown",
   "metadata": {},
   "source": [
    "### Urban Counties"
   ]
  },
  {
   "cell_type": "code",
   "execution_count": null,
   "metadata": {},
   "outputs": [],
   "source": [
    "# Display the plot\n",
    "urban_employment_poverty_df.plot(y=[\"Poverty Count\", \"Number of Employed (16+)\", \"Number of Unemployed (16+)\"], kind=\"line\", title=\"Poverty Count vs. Employment (16+) in Urban Counties (2011-2021)\")\n",
    "# Save the plot to a file\n",
    "plt.savefig(\"images/michael/urban_poverty_count_vs_employment_line.png\")\n"
   ]
  },
  {
   "cell_type": "code",
   "execution_count": null,
   "metadata": {},
   "outputs": [],
   "source": [
    "# Display the plot\n",
    "urban_employment_poverty_df.plot(y=[\"Poverty Count\", \"Number of Employed (16+)\", \"Number of Unemployed (16+)\"], kind=\"bar\", title=\"Poverty Count vs. Employment (16+) in Urban Counties (2011-2021)\")\n",
    "# Save the plot to a file\n",
    "plt.savefig(\"images/michael/urban_poverty_count_vs_employment_bar.png\")\n"
   ]
  },
  {
   "cell_type": "markdown",
   "metadata": {},
   "source": [
    "### Rural Counties"
   ]
  },
  {
   "cell_type": "code",
   "execution_count": null,
   "metadata": {},
   "outputs": [],
   "source": [
    "# Display the plot\n",
    "rural_employment_poverty_df.plot(y=[\"Poverty Count\", \"Number of Employed (16+)\", \"Number of Unemployed (16+)\"], kind=\"line\", title=\"Poverty Count vs. Employment (16+) in Rural Counties (2011-2021)\")\n",
    "# Save the plot to a file\n",
    "plt.savefig(\"images/michael/rural_poverty_count_vs_employment_line.png\")\n"
   ]
  },
  {
   "cell_type": "code",
   "execution_count": null,
   "metadata": {},
   "outputs": [],
   "source": [
    "# Display the plot\n",
    "rural_employment_poverty_df.plot(y=[\"Poverty Count\", \"Number of Employed (16+)\", \"Number of Unemployed (16+)\"], kind=\"bar\", title=\"Poverty Count vs. Employment (16+) in Rural Counties (2011-2021)\")\n",
    "# Save the plot to a file\n",
    "plt.savefig(\"images/michael/rural_poverty_count_vs_employment_bar.png\")\n"
   ]
  }
 ],
 "metadata": {
  "kernelspec": {
   "display_name": "bootcamp",
   "language": "python",
   "name": "python3"
  },
  "language_info": {
   "codemirror_mode": {
    "name": "ipython",
    "version": 3
   },
   "file_extension": ".py",
   "mimetype": "text/x-python",
   "name": "python",
   "nbconvert_exporter": "python",
   "pygments_lexer": "ipython3",
   "version": "3.10.14"
  }
 },
 "nbformat": 4,
 "nbformat_minor": 2
}
