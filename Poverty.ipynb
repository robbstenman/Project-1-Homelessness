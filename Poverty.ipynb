{
 "cells": [
  {
   "cell_type": "markdown",
   "metadata": {},
   "source": [
    "# Dependency setup"
   ]
  },
  {
   "cell_type": "markdown",
   "metadata": {},
   "source": [
    "## Package setup"
   ]
  },
  {
   "cell_type": "code",
   "execution_count": null,
   "metadata": {},
   "outputs": [],
   "source": [
    "# Import dependencies and libraries\n",
    "from IPython.display import clear_output\n",
    "import pandas as pd\n",
    "from census import Census\n",
    "from us import states\n",
    "from dotenv import load_dotenv\n",
    "import requests\n",
    "import sys\n",
    "import csv\n",
    "import os\n",
    "import json\n",
    "import time\n",
    "\n",
    "# Load development mode\n",
    "try:\n",
    "  dev = os.getenv(\"DEV_MODE\")\n",
    "  if dev: print(\"Development mode loaded successfully!\")\n",
    "except:\n",
    "  print(\"Error loading development mode\")\n",
    "  print(\"Defaulting to production mode\")\n",
    "  dev = False\n",
    "\n",
    "# Load environment variables and U.S. Census API key\n",
    "if dev: print(\"Loading environment variables...\")\n",
    "load_dotenv()\n",
    "if dev: print(\"Environment variables loaded successfully!\")\n",
    "try:\n",
    "  if dev: print(\"Loading U.S. Census API key...\")\n",
    "  api_key = os.getenv(\"CENSUS_API_KEY\")\n",
    "  if dev: print(\"API key loaded successfully!\")\n",
    "except:\n",
    "  print(\"Error loading U.S. Census API key\")\n",
    "  print(\"Please check your environment variables\")\n",
    "  "
   ]
  },
  {
   "cell_type": "markdown",
   "metadata": {},
   "source": [
    "## Google Colab setup"
   ]
  },
  {
   "cell_type": "code",
   "execution_count": null,
   "metadata": {},
   "outputs": [],
   "source": [
    "# Install the required libraries for running on colab\n",
    "try:\n",
    "  %pip install prophet\n",
    "except:\n",
    "  print(\"Error installing libraries to colab instance\")\n",
    "finally:\n",
    "  clear_output()\n",
    "  print(\"Libraries successfully installed to colab instance\")\n"
   ]
  },
  {
   "cell_type": "markdown",
   "metadata": {},
   "source": [
    "# Census Code"
   ]
  },
  {
   "cell_type": "code",
   "execution_count": null,
   "metadata": {},
   "outputs": [],
   "source": [
    "# Create an instance of the Census library\n",
    "try:\n",
    "  if dev: print(\"Creating an instance of the Census API...\")\n",
    "  c = Census(\n",
    "      api_key\n",
    "  )\n",
    "  if dev: print(\"Census API instance created:\")\n",
    "  if dev: display(type(c))\n",
    "  if dev: display(c)\n",
    "except:\n",
    "  print(\"Error creating an instance of the Census API\")\n",
    "  print(\"Please check your U.S. Census API key\")\n"
   ]
  },
  {
   "cell_type": "markdown",
   "metadata": {},
   "source": [
    "## Census API Aliases"
   ]
  },
  {
   "cell_type": "code",
   "execution_count": null,
   "metadata": {},
   "outputs": [],
   "source": [
    "# Load census aliases\n",
    "# TODO: Add google colab-specific code to load the census aliases\n",
    "if dev: print(\"Loading census aliases...\")\n",
    "with open('data/census/census_aliases.json') as f:\n",
    "    census_aliases = json.load(f)\n",
    "\n",
    "# Display the census aliases\n",
    "# display(census_aliases)\n",
    "\n",
    "def printAliases():\n",
    "  # Show the keys in the census aliases\n",
    "  alias_count = 1\n",
    "  print(\"Census aliases:\")\n",
    "  print(\"-\"*30)\n",
    "  for key, value in census_aliases.items():\n",
    "      description = value[\"description\"]\n",
    "      column_name = value[\"variable\"]\n",
    "      title = value[\"text\"]\n",
    "      unit = value[\"unit\"]\n",
    "      print(f\"{alias_count:03d} | {title.capitalize()}: {description}\")\n",
    "      print(f\"    | Census column name: {column_name}\")\n",
    "      print(f\"    | Unit: {unit}\")\n",
    "      print(\"-\"*30)\n",
    "      alias_count+=1\n",
    "\n",
    "# Saving the reference of the standard output\n",
    "original_stdout = sys.stdout \t\n",
    "\n",
    "try:\n",
    "  # Save the census aliases to a file\n",
    "  if dev: print(\"Saving census aliases to file...\")\n",
    "  with open('census_aliases.txt', 'w') as f:\n",
    "      sys.stdout = f\n",
    "      printAliases()\n",
    "      # Reset the standard output\n",
    "      sys.stdout = original_stdout\n",
    "  print(\"Census aliases saved to file successfully!\")\n",
    "except:\n",
    "  print(\"Error saving census aliases to file\")\n"
   ]
  },
  {
   "cell_type": "markdown",
   "metadata": {},
   "source": [
    "## FIPS Codes"
   ]
  },
  {
   "cell_type": "markdown",
   "metadata": {},
   "source": [
    "### Functions for obtaining county FIPS codes"
   ]
  },
  {
   "cell_type": "code",
   "execution_count": null,
   "metadata": {},
   "outputs": [],
   "source": [
    "# Define funtions to get FIPS codes for US counties\n",
    "# https://gist.github.com/cjwinchester/a8ff5dee9c07d161bdf4\n",
    "def getCounties():\n",
    "    \"Function to return a dict of FIPS codes (keys) of U.S. counties (values)\"\n",
    "    d = {}\n",
    "    r = requests.get(\"http://www2.census.gov/geo/docs/reference/codes/files/national_county.txt\")\n",
    "    reader = csv.reader(r.text.splitlines(), delimiter=',')    \n",
    "    for line in reader:\n",
    "        d[line[1] + line[2]] = line[3].replace(\" County\",\"\")    \n",
    "    return d\n",
    "\n",
    "def getCountyAdj():\n",
    "    \"Return a list of dicts where each dict has a county FIPS code (key) and a list of FIPS codes of the adjacent counties, not including that county (value)\"\n",
    "    adj = requests.get(\"http://www2.census.gov/geo/docs/reference/county_adjacency.txt\")\n",
    "    adj_data = adj.text.encode(\"utf-8\")\n",
    "    reader = csv.reader(adj_data.splitlines(), delimiter='\\t')\n",
    "    ls = []\n",
    "    d = {}\n",
    "    countyfips = \"\"\n",
    "    for row in reader:\n",
    "        if row[1] and row[1] != \"\":\n",
    "            if d:\n",
    "                ls.append(d)\n",
    "            d = {}\n",
    "            countyfips = row[1]\n",
    "            d[countyfips] = []\n",
    "            \"Grab the record on the same line\"\n",
    "            try:\n",
    "                st = row[3]\n",
    "                if st != countyfips:\n",
    "                    d[countyfips].append(st)\n",
    "            except:\n",
    "                pass\n",
    "        else:\n",
    "            \"Grab the rest of the records\"\n",
    "            if row[3] and row[3] != \"\":\n",
    "                st = row[3]\n",
    "                if st != countyfips:\n",
    "                    d[countyfips].append(st)\n"
   ]
  },
  {
   "cell_type": "markdown",
   "metadata": {},
   "source": [
    "### Obtaining state FIPS codes"
   ]
  },
  {
   "cell_type": "code",
   "execution_count": null,
   "metadata": {},
   "outputs": [],
   "source": [
    "# Get the FIPS codes for Colorado\n",
    "try:\n",
    "  if dev: print(\"Getting FIPS codes for Colorado...\")\n",
    "  colorado_fips = states.CO.fips\n",
    "  state_fips = colorado_fips\n",
    "  print(f\"Colorado FIPS code: {state_fips}\")\n",
    "except:\n",
    "  print(\"Error getting FIPS codes for Colorado\")\n"
   ]
  },
  {
   "cell_type": "markdown",
   "metadata": {},
   "source": [
    "### Obtaining all US county FIPS codes"
   ]
  },
  {
   "cell_type": "code",
   "execution_count": null,
   "metadata": {},
   "outputs": [],
   "source": [
    "# Store county FIPS codes in memory\n",
    "try:\n",
    "  if dev: print(\"Storing county FIPS codes in memory...\")\n",
    "  county_fips = getCounties()\n",
    "  if dev: print(\"All County FIPS codes:\")\n",
    "  if dev: display(county_fips)\n",
    "except:\n",
    "  print(\"Error storing county FIPS codes in memory\")\n",
    "  "
   ]
  },
  {
   "cell_type": "markdown",
   "metadata": {},
   "source": [
    "### Obtaining FIPS codes for all counties in Colorado"
   ]
  },
  {
   "cell_type": "code",
   "execution_count": null,
   "metadata": {},
   "outputs": [],
   "source": [
    "# Filter out only Colorado county FIPS codes\n",
    "try:\n",
    "  if dev: print(\"Filtering out only Colorado county FIPS codes...\")\n",
    "  colorado_county_fips = {key: value for key, value in county_fips.items() if key.startswith(state_fips)}\n",
    "  if dev: print(\"Colorado County FIPS codes:\")\n",
    "  if dev: display(colorado_county_fips)\n",
    "  print(f\"Number of Colorado counties: {len(colorado_county_fips)}\")\n",
    "except:\n",
    "  print(\"Error filtering out only Colorado county FIPS codes\")\n"
   ]
  },
  {
   "cell_type": "markdown",
   "metadata": {},
   "source": [
    "### Obtaining FIPS code for a specific county in Colorado"
   ]
  },
  {
   "cell_type": "code",
   "execution_count": null,
   "metadata": {},
   "outputs": [],
   "source": [
    "# Prompt for county to look up and retrieve fip\n",
    "# county_name = input(\"Enter county name to look up the FIPS code: \")\n",
    "try:\n",
    "  if dev: print(\"Looking up the FIPS code for Denver county...\")\n",
    "  county_name = \"Denver\"\n",
    "  state_county_fip = list(county_fips.keys()) [list(county_fips.values()).index(county_name)]\n",
    "  county_fip = state_county_fip[2:]\n",
    "  print(f\"The FIPS code for {county_name} is {county_fip}\")\n",
    "except:\n",
    "  print(f\"Error looking up the FIPS code for {county_name} county\")\n"
   ]
  },
  {
   "cell_type": "markdown",
   "metadata": {},
   "source": [
    "## Census Data"
   ]
  },
  {
   "cell_type": "markdown",
   "metadata": {},
   "source": [
    "### Getting Raw Census Data"
   ]
  },
  {
   "cell_type": "code",
   "execution_count": null,
   "metadata": {},
   "outputs": [],
   "source": [
    "# Run Census Search to retrieve data on all zip codes\n",
    "census_start_year = 2011\n",
    "census_end_year = 2021\n",
    "census_years = range(census_start_year, census_end_year + 1)\n",
    "data_retrieval_output = sys.stdout\n",
    "\n",
    "# Create a DataFrame to hold the census data with an empty row so we can append data to it\n",
    "raw_census_df = pd.DataFrame({\n",
    "  \"NAME\": \"\",\n",
    "  \"B19013_001E\": \"\",\n",
    "  \"B19301_001E\": \"\",\n",
    "  \"B23025_002E\": \"\",\n",
    "  \"B23025_007E\": \"\",\n",
    "  \"B17001_002E\": \"\",\n",
    "  \"B01002_001E\": \"\",\n",
    "  \"B01003_001E\": \"\",\n",
    "  \"B25035_001E\": \"\",\n",
    "  \"B25058_001E\": \"\",\n",
    "  \"B25064_001E\": \"\",\n",
    "  \"B25077_001E\": \"\",\n",
    "  \"B25088_002E\": \"\",\n",
    "  \"Year\": \"\"\n",
    "}, index=[0])\n",
    "\n",
    "# Loop through the years and retrieve data for each year\n",
    "try:\n",
    "  for county_fip in colorado_county_fips.keys():\n",
    "    for year in census_years:\n",
    "      if dev: print(f\"Retrieving data for {year} {colorado_county_fips[county_fip]} County...\")\n",
    "      year_data = c.acs5.state_county(\n",
    "        (\n",
    "          \"NAME\",\n",
    "          \"B19013_001E\",\n",
    "          \"B19301_001E\",\n",
    "          \"B23025_002E\",\n",
    "          \"B23025_007E\",\n",
    "          \"B17001_002E\",\n",
    "          \"B01002_001E\",\n",
    "          \"B01003_001E\",\n",
    "          \"B25035_001E\",\n",
    "          \"B25058_001E\",\n",
    "          \"B25064_001E\",\n",
    "          \"B25077_001E\",\n",
    "          \"B25088_002E\"\n",
    "        ),\n",
    "        colorado_fips,\n",
    "        county_fip[2:],\n",
    "        year=year\n",
    "      )\n",
    "\n",
    "      # Display the retrieved data\n",
    "      if dev: print(f\"Data retrieved for {year} {colorado_county_fips[county_fip]} County.\")\n",
    "      if dev: display(year_data)\n",
    "\n",
    "      # Convert to DataFrame\n",
    "      if dev: print(\"Converting data to DataFrame...\")\n",
    "      year_df = pd.DataFrame(year_data)\n",
    "\n",
    "      # Add the data's year to a Year column\n",
    "      if dev: print(f\"Adding Year column to {year} {colorado_county_fips[county_fip]} County...\")\n",
    "      year_df[\"Year\"] = year\n",
    "\n",
    "      # Add the data to the combined DataFrame\n",
    "      if dev: print(\"Adding data to the combined DataFrame...\")\n",
    "      raw_census_df = pd.concat([raw_census_df, year_df], ignore_index=True)\n",
    "\n",
    "      # Wait for 5 seconds before making the next request\n",
    "      if dev: print(\"Waiting for 5 seconds before making the next request...\")\n",
    "      if dev: print(\"-\"*50)\n",
    "      # TODO: Show percentage of data retrieval completion\n",
    "      clear_output(wait=True)\n",
    "      time.sleep(5)\n",
    "    print(f\"Data retrieval of {colorado_county_fips[county_fip]} County complete.\")\n",
    "  print(f\"Data retrieval of all Colorado counties complete.\")\n",
    "except Exception as e:\n",
    "  print(\"Error retrieving data from the U.S. Census API\")\n",
    "  print(e)\n"
   ]
  },
  {
   "cell_type": "markdown",
   "metadata": {},
   "source": [
    "### Saving Raw Census Data to CSV"
   ]
  },
  {
   "cell_type": "code",
   "execution_count": null,
   "metadata": {},
   "outputs": [],
   "source": [
    "# Save the raw census data to a CSV file\n",
    "try:\n",
    "  if dev: print(\"Saving raw census data to a CSV file...\")\n",
    "  raw_census_df.to_csv(\"data/census/raw_census_data.csv\", index=False)\n",
    "  print(\"Raw census data saved to file successfully!\")\n",
    "except:\n",
    "  print(\"Error saving raw census data to file\")\n"
   ]
  },
  {
   "cell_type": "markdown",
   "metadata": {},
   "source": [
    "### Loading Raw Census Data from CSV"
   ]
  },
  {
   "cell_type": "code",
   "execution_count": null,
   "metadata": {},
   "outputs": [],
   "source": [
    "# Load the raw census data from the CSV file\n",
    "try:\n",
    "  if dev: print(\"Loading raw census data from the CSV file...\")\n",
    "  raw_census_df = pd.read_csv(\"data/census/raw_census_data.csv\")\n",
    "  if dev: display(raw_census_df.head())\n",
    "  print(\"Raw census data loaded from file successfully!\")\n",
    "except:\n",
    "  print(\"Error loading raw census data from file, please make sure the file exists.\")\n"
   ]
  },
  {
   "cell_type": "markdown",
   "metadata": {},
   "source": [
    "### Cleaning Census Data"
   ]
  },
  {
   "cell_type": "markdown",
   "metadata": {},
   "source": [
    "#### Dropping rows with missing values"
   ]
  },
  {
   "cell_type": "code",
   "execution_count": null,
   "metadata": {},
   "outputs": [],
   "source": [
    "# Drop the empty row from the combined DataFrame\n",
    "try:\n",
    "  if dev: print(\"Dropping the empty row from the combined DataFrame...\")\n",
    "  raw_census_df.dropna(inplace=True)\n",
    "  if dev: print(\"Combined DataFrame:\")\n",
    "  display(raw_census_df.head())\n",
    "except:\n",
    "  print(\"Error dropping empty row from the combined DataFrame\")\n"
   ]
  },
  {
   "cell_type": "markdown",
   "metadata": {},
   "source": [
    "#### Index fixing and Sorting"
   ]
  },
  {
   "cell_type": "code",
   "execution_count": null,
   "metadata": {},
   "outputs": [],
   "source": [
    "# Copy the DataFrame to a new DataFrame\n",
    "if dev: print(\"Copying the DataFrame to a new DataFrame...\")\n",
    "census_df = raw_census_df.copy()\n",
    "# Reset the index of the DataFrame\n",
    "if dev: print(\"Resetting the index of the DataFrame...\")\n",
    "census_df.reset_index(inplace=True, drop=True)\n",
    "# Sort the DataFrame by Name and Year\n",
    "if dev: print(\"Sorting the DataFrame by Name and Year...\")\n",
    "census_df.sort_values(by=[\"NAME\", \"Year\"], inplace=True)\n",
    "# Display the DataFrame\n",
    "if dev: print(\"New DataFrame:\")\n",
    "if dev: display(census_df.head())\n"
   ]
  },
  {
   "cell_type": "markdown",
   "metadata": {},
   "source": [
    "#### Column fixing"
   ]
  },
  {
   "cell_type": "code",
   "execution_count": null,
   "metadata": {},
   "outputs": [],
   "source": [
    "# Convert the Year column to an integer\n",
    "try:\n",
    "  if dev: print(\"Converting the Year column to an integer...\")\n",
    "  census_df[\"Year\"] = census_df[\"Year\"].astype(int)\n",
    "  if dev: print(\"Year column converted to an integer successfully!\")\n",
    "except:\n",
    "  print(\"Error converting the Year column to an integer\")\n"
   ]
  },
  {
   "cell_type": "code",
   "execution_count": null,
   "metadata": {},
   "outputs": [],
   "source": [
    "# Column renaming\n",
    "if dev: print(\"Renaming columns...\")\n",
    "census_df.rename(\n",
    "  columns = {\n",
    "    \"NAME\": \"County\",\n",
    "    \"B19013_001E\": \"Median Household Income\",\n",
    "    \"B19301_001E\": \"Per Capita Income\",\n",
    "    \"B23025_002E\": \"Number of Employed (16+)\",\n",
    "    \"B23025_007E\": \"Number of Unemployed (16+)\",\n",
    "    \"B17001_002E\": \"Poverty Count\",\n",
    "    \"B01002_001E\": \"Median Age\",\n",
    "    \"B01003_001E\": \"Total Population\",\n",
    "    \"B25035_001E\": \"Average Year Home Built\",\n",
    "    \"B25058_001E\": \"Median Contract Rent\",\n",
    "    \"B25064_001E\": \"Average Cost of Rent and Utilities\",\n",
    "    \"B25077_001E\": \"Average Value of Owner-occupied Home\",\n",
    "    \"B25088_002E\": \"Average Monthly Housing Expense with Mortgage\"\n",
    "  },\n",
    "  inplace=True\n",
    ")\n",
    "\n",
    "# Add a Poverty Rate column (Poverty Count / Population)\n",
    "if dev: print(\"Adding a Poverty Rate column...\")\n",
    "census_df[\"Poverty Rate\"] = 100 * census_df[\"Poverty Count\"].astype(int) / census_df[\"Total Population\"].astype(int)\n"
   ]
  },
  {
   "cell_type": "code",
   "execution_count": null,
   "metadata": {},
   "outputs": [],
   "source": [
    "# Configure the final DataFrame\n",
    "if dev: print(\"Configuring the DataFrame...\")\n",
    "census_df = census_df[\n",
    "  [\n",
    "    \"County\",\n",
    "    \"Year\",\n",
    "    \"Median Household Income\",\n",
    "    \"Per Capita Income\",\n",
    "    \"Number of Employed (16+)\",\n",
    "    \"Number of Unemployed (16+)\",\n",
    "    \"Poverty Count\",\n",
    "    \"Median Age\",\n",
    "    \"Total Population\",\n",
    "    \"Average Year Home Built\",\n",
    "    \"Median Contract Rent\",\n",
    "    \"Average Cost of Rent and Utilities\",\n",
    "    \"Average Value of Owner-occupied Home\",\n",
    "    \"Average Monthly Housing Expense with Mortgage\"\n",
    "  ]\n",
    "]\n",
    "\n",
    "# Display DataFrame length and sample data\n",
    "if dev: print(f\"Number of rows in the DataFrame: {len(census_df)}\")\n",
    "if dev: print(\"Combined county DataFrame preview:\")\n",
    "if dev: display(census_df.head())\n"
   ]
  },
  {
   "cell_type": "markdown",
   "metadata": {},
   "source": [
    "#### Saving Cleaned Census Data to CSV"
   ]
  },
  {
   "cell_type": "code",
   "execution_count": null,
   "metadata": {},
   "outputs": [],
   "source": [
    "# Save the final census data to a CSV file\n",
    "try:\n",
    "  if dev: print(\"Saving final census data to a CSV file...\")\n",
    "  census_df.to_csv(\"data/census/clean_census_data.csv\", index=False)\n",
    "  print(\"Final census data saved to file successfully!\")\n",
    "except:\n",
    "  print(\"Error saving final census data to file\")\n"
   ]
  },
  {
   "cell_type": "markdown",
   "metadata": {},
   "source": [
    "#### Loading Cleaned Census Data from CSV"
   ]
  },
  {
   "cell_type": "code",
   "execution_count": null,
   "metadata": {},
   "outputs": [],
   "source": [
    "# Load the final census data from the CSV file\n",
    "try:\n",
    "  if dev: print(\"Loading final census data from the CSV file...\")\n",
    "  census_df = pd.read_csv(\"data/census/clean_census_data.csv\")\n",
    "  if dev: display(census_df.head())\n",
    "  print(\"Final census data loaded from file successfully!\")\n",
    "except:\n",
    "  print(\"Error loading final census data from file, please make sure the file exists.\")\n"
   ]
  },
  {
   "cell_type": "markdown",
   "metadata": {},
   "source": [
    "#### Displaying Cleaned Census Data"
   ]
  },
  {
   "cell_type": "code",
   "execution_count": null,
   "metadata": {},
   "outputs": [],
   "source": [
    "# Display the first and last 30 rows of the DataFrame\n",
    "print(\"First 30 rows of the DataFrame:\")\n",
    "display(census_df.head(30))\n",
    "\n",
    "print(\"Last 30 rows of the DataFrame:\")\n",
    "display(census_df.tail(30))\n"
   ]
  },
  {
   "cell_type": "markdown",
   "metadata": {},
   "source": [
    "# School Code"
   ]
  },
  {
   "cell_type": "code",
   "execution_count": null,
   "metadata": {},
   "outputs": [],
   "source": [
    "# Import School data into a DataFrame\n",
    "if dev: print(\"Loading combined school data...\")\n",
    "raw_school_data_df = pd.read_excel(\"data/schools/combined_2011-2021.xlsx\")\n",
    "\n",
    "print(\"School data loaded successfully!\")\n"
   ]
  },
  {
   "cell_type": "code",
   "execution_count": null,
   "metadata": {},
   "outputs": [],
   "source": [
    "# Copy the DataFrame to a new DataFrame\n",
    "if dev: print(\"Copying the DataFrame to a new DataFrame...\")\n",
    "school_data_df = raw_school_data_df.copy()\n",
    "# Sort the DataFrame by Name and Year\n",
    "if dev: print(\"Sorting the DataFrame by County and Year...\")\n",
    "school_data_df.sort_values(by=[\"County\", \"Year\"], inplace=True)\n",
    "# Reset the index of the DataFrame\n",
    "school_data_df.reset_index(inplace=True, drop=True)\n",
    "# Display the DataFrame\n",
    "if dev: print(\"New DataFrame:\")\n",
    "if dev: display(school_data_df.head())\n"
   ]
  },
  {
   "cell_type": "code",
   "execution_count": null,
   "metadata": {},
   "outputs": [],
   "source": [
    "# Display the first and last 30 rows of the DataFrame\n",
    "print(\"School data:\")\n",
    "display(school_data_df.head(30))\n",
    "display(school_data_df.tail(30))\n"
   ]
  },
  {
   "cell_type": "markdown",
   "metadata": {},
   "source": [
    "# HIC Data"
   ]
  },
  {
   "cell_type": "code",
   "execution_count": null,
   "metadata": {},
   "outputs": [],
   "source": [
    "# Import HIC data into a DataFrame\n",
    "if dev: print(\"Loading HIC data...\")\n",
    "raw_hic_data_df = pd.read_excel(\"data/hic/HIC_CO_2007-2023.xlsx\")\n",
    "\n",
    "print(\"HIC data loaded successfully!\")\n"
   ]
  },
  {
   "cell_type": "code",
   "execution_count": null,
   "metadata": {},
   "outputs": [],
   "source": [
    "# Display the first and last 30 rows of the DataFrame\n",
    "print(\"HIC data:\")\n",
    "display(raw_hic_data_df.head(30))\n",
    "display(raw_hic_data_df.tail(30))\n"
   ]
  },
  {
   "cell_type": "markdown",
   "metadata": {},
   "source": [
    "# PIT Data"
   ]
  },
  {
   "cell_type": "code",
   "execution_count": null,
   "metadata": {},
   "outputs": [],
   "source": [
    "# Import PIT data into a DataFrame\n",
    "if dev: print(\"Loading PIT data...\")\n",
    "raw_pit_data_df = pd.read_excel(\"data/pit/PIT_CO_2007-2023.xlsx\")\n",
    "\n",
    "print(\"PIT data loaded successfully!\")\n"
   ]
  },
  {
   "cell_type": "code",
   "execution_count": null,
   "metadata": {},
   "outputs": [],
   "source": [
    "# Display the first and last 30 rows of the DataFrame\n",
    "print(\"PIT data:\")\n",
    "display(raw_pit_data_df.head(30))\n",
    "display(raw_pit_data_df.tail(30))\n"
   ]
  },
  {
   "cell_type": "markdown",
   "metadata": {},
   "source": [
    "# SNAP Data"
   ]
  },
  {
   "cell_type": "code",
   "execution_count": null,
   "metadata": {},
   "outputs": [],
   "source": [
    "# Import SNAP data into a DataFrame\n",
    "if dev: print(\"Loading SNAP data...\")\n",
    "raw_snap_data_df = pd.read_csv(\"data/snap/SNAP_CO_2010-2022.csv\")\n",
    "\n",
    "print(\"SNAP data loaded successfully!\")\n"
   ]
  },
  {
   "cell_type": "code",
   "execution_count": null,
   "metadata": {},
   "outputs": [],
   "source": [
    "# Display the first and last 30 rows of the DataFrame\n",
    "print(\"SNAP data:\")\n",
    "display(raw_snap_data_df.head(30))\n",
    "display(raw_snap_data_df.tail(30))\n"
   ]
  },
  {
   "cell_type": "markdown",
   "metadata": {},
   "source": [
    "# SSS Data"
   ]
  },
  {
   "cell_type": "code",
   "execution_count": null,
   "metadata": {},
   "outputs": [],
   "source": [
    "# Import SSS data into a DataFrame\n",
    "if dev: print(\"Loading SSS data...\")\n",
    "raw_sss_data_df = pd.read_excel(\"data/sss/SSS_CO_2011-2022.xlsx\")\n",
    "\n",
    "print(\"SSS data loaded successfully!\")\n"
   ]
  },
  {
   "cell_type": "code",
   "execution_count": null,
   "metadata": {},
   "outputs": [],
   "source": [
    "# Display the first and last 30 rows of the DataFrame\n",
    "print(\"SSS data:\")\n",
    "display(raw_sss_data_df.head(30))\n",
    "display(raw_sss_data_df.tail(30))\n"
   ]
  }
 ],
 "metadata": {
  "kernelspec": {
   "display_name": "bootcamp",
   "language": "python",
   "name": "python3"
  },
  "language_info": {
   "codemirror_mode": {
    "name": "ipython",
    "version": 3
   },
   "file_extension": ".py",
   "mimetype": "text/x-python",
   "name": "python",
   "nbconvert_exporter": "python",
   "pygments_lexer": "ipython3",
   "version": "3.10.14"
  }
 },
 "nbformat": 4,
 "nbformat_minor": 2
}
